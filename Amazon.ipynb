{
 "cells": [
  {
   "cell_type": "markdown",
   "metadata": {},
   "source": [
    "###### May 2022\n",
    "###### Author: Martina Lorenzo Valerio \n",
    "\n",
    "# Data Visualisation: Amazon product co-purchasing network metadata"
   ]
  },
  {
   "cell_type": "code",
   "execution_count": 3,
   "metadata": {},
   "outputs": [],
   "source": [
    "import string\n",
    "import re\n",
    "from nltk.corpus import stopwords\n",
    "from stemming.porter2 import stem\n",
    "import networkx"
   ]
  },
  {
   "cell_type": "code",
   "execution_count": null,
   "metadata": {},
   "outputs": [],
   "source": [
    "#open file to read Amazon product metadata from http://snap.stanford.edu/data/amazon-meta.html\n",
    "fhr = open ('/Users/martinamanno/Desktop/LUISS/CORSI da seguire/DATA VISUALIZATION/project/amazon-meta.txt', 'r', encoding='utf-8', errors= 'ignore')"
   ]
  },
  {
   "cell_type": "markdown",
   "metadata": {},
   "source": [
    "###### Description of the dataset\n",
    "The dataset provides product and review metadata on 548,552 different products. The data was collected in 2006 by crawling the Amazon website. The dataset contains information about:\n",
    "- ID:product number\n",
    "- ASIN: Amazon Standard Identification Number is a 10-character alphanumeric unique identifier assigned by Amazon.com for product identification. \n",
    "- Title: title of the product\n",
    "- Group: "
   ]
  },
  {
   "cell_type": "code",
   "execution_count": null,
   "metadata": {},
   "outputs": [],
   "source": [
    "#initialize a nested product dictionary that will hold cleaned up amazon product data\n",
    "#key = ASIN, value = MetaData associated with ASIN\n",
    "amazonProducts= {}"
   ]
  },
  {
   "cell_type": "code",
   "execution_count": null,
   "metadata": {},
   "outputs": [],
   "source": [
    "### Preprocess 2 ###\n",
    "\n",
    "(Id, ASIN, Title, Categories, Group, Copurchased, SalesRank, TotalReviews, AvgRating, DegreeCentrality, ClusteringCoeff) = (\"\", \"\", \"\", \"\", \"\", \"\", 0, 0, 0.0, 0, 0.0)\n",
    "\n",
    "for line in fhr:\n",
    "    line = line.strip()\n",
    "    # a pduct block started\n",
    "    if(line.startswith(\"Id\")):\n",
    "        Id = line[3:].strip()\n",
    "    elif(line.startswith(\"ASIN\")):\n",
    "        ASIN = line[5:].strip()\n",
    "    elif(line.startswith(\"title\")):\n",
    "        Title = line[6:].strip()\n",
    "        Title = ' '.join(Title.split())\n",
    "        #Titlefidf = Title.tolower()\n",
    "        #Titlefidf = re.compile('[%s]' % re.escape(string.digit+string.punctuation)).sub(' ',Titlefidf)\n",
    "        #Titlefidf = ' '.join(set(Titlefidf.split())-set(stopwords.words(\"english\")))\n",
    "        #Titlefidf = ' '.join(stem(word) for word in Titlefidf.split())\n",
    "    elif(line.startswith(\"group\")):\n",
    "        Group = line[6:].strip()\n",
    "    elif(line.startswith(\"salesrank\")):\n",
    "        SalesRank = line[10:].strip()\n",
    "    elif(line.startswith(\"similar\")):\n",
    "        ls = line.split()\n",
    "        Copurchased = ' '.join([c for c in ls[2:]])\n",
    "    elif(line.startswith(\"reviews\")):\n",
    "        ls = line.split()\n",
    "        TotalReviews = ls[2].strip()\n",
    "        AvgRating = ls[7].strip()\n",
    "    # a product block eneded\n",
    "    # write out fields to amazonProducts Dictionary\n",
    "    elif (line==\"\"):\n",
    "        try:\n",
    "            MetaData = {}\n",
    "            if (ASIN != \"\"):\n",
    "                amazonProducts[ASIN] = MetaData\n",
    "            MetaData['Id'] = Id\n",
    "            MetaData['Title'] = Title\n",
    "            MetaData['Categories'] = ' '.join(set(Categories.split()))\n",
    "            MetaData['Group'] = Group\n",
    "            MetaData['Copurchased'] = Copurchased\n",
    "            MetaData['SalesRank'] = int(SalesRank)\n",
    "            MetaData['TotalReviews'] = int(TotalReviews)\n",
    "            MetaData['AvgRating'] = float(AvgRating)\n",
    "            MetaData['DegreeCentrality'] = DegreeCentrality\n",
    "            MetaData['ClusteringCoeff'] = ClusteringCoeff\n",
    "        except NameError:\n",
    "            continue\n",
    "        (Id, ASIN, Title, Categories, Group, Copurchased, SalesRank, TotalReviews, AvgRating, DegreeCentrality, ClusteringCoeff) = (\"\", \"\", \"\", \"\", \"\", \"\", 0, 0, 0.0, 0, 0.0)\n",
    "fhr.close\n",
    "        "
   ]
  },
  {
   "cell_type": "code",
   "execution_count": null,
   "metadata": {},
   "outputs": [],
   "source": [
    "### Preprocess 3 ###\n",
    "\n",
    "#create book specific dictionary exclusively for books\n",
    "amazonBooks = {}\n",
    "for asin,metadata in amazonProducts.items():\n",
    "    if (metadata['Group']=='Book'):\n",
    "        amazonBooks[asin]=amazonProducts[asin]\n",
    "        \n",
    "#remove any copurchased items from copurchase list. If we don't have metadata associated with it\n",
    "for asin, metadata in amazonBooks.items():\n",
    "    amazonBooks[asin]['Copurchased']= ' '.join([cp for cp in metadata['Copurchased'].split() /\n",
    "                                                if cp in amazonBooks.keys()])\n",
    "    "
   ]
  },
  {
   "cell_type": "code",
   "execution_count": null,
   "metadata": {},
   "outputs": [],
   "source": [
    "### Preprocess 4 ###\n",
    "\n",
    "#create a product copurchase graph for analysis\n",
    "#the graph nodes are product ASINs, the graph edge exists if two products were copurchased, with edge weight being a measure of category similarity between ASINs\n",
    "copurchaseGraph = networkx.Graph()\n",
    "for asin, metadata in amazonBooks.items():\n",
    "    copurchaseGraph.add_node(asin)\n",
    "    for a in metadata ['Copurchased'].split():\n",
    "        copurchaseGraph.add_node(a.strip())\n",
    "        similarity=0\n",
    "        n1= set((amazonBooks[asin]['Categories']).split())\n",
    "        n2= set ((amazonBooks[a]['Categories']).split())\n",
    "        n1In2 = n1 & n2\n",
    "        n1Un2 = n1 | n2\n",
    "        if (len(n1Un2)) > 0:\n",
    "            similarity = round (len(n1In2)/len(n1Un2), 2)\n",
    "            copurchaseGraph.add_edge(asin, a.strip(), weight=similarity)"
   ]
  },
  {
   "cell_type": "code",
   "execution_count": null,
   "metadata": {},
   "outputs": [],
   "source": [
    "### Preprocess 5 ###         \n",
    "\n",
    "dc = networkx.degree(copurchaseGraph)\n",
    "for asin in networkx.nodes(copurchaseGraph):\n",
    "    metadata = amazonBooks[asin]\n",
    "    metadata['DegreeCentrality'] = int(dc[asin])\n",
    "    ego = networkx.ego_graph(copurchaseGraph, asin, radius = 1)\n",
    "    metadata['ClusteringCoeff'] = round(networkx.average_clustering(ego), 2)\n",
    "    amazonBooks[asin] = metadata"
   ]
  },
  {
   "cell_type": "code",
   "execution_count": null,
   "metadata": {},
   "outputs": [],
   "source": [
    "### Preprocess 6 ###         \n",
    "\n",
    "fhw = open('./amazon-books.txt', 'w', encoding = 'utf-8', errors = 'ignore')\n",
    "fhw.write('Id\\t' + 'ASIN\\t' + 'Title\\t'+\n",
    "         'Categories\\t' + 'Group\\t' + 'Copurchased\\t'+\n",
    "         'SalesRank\\t' + 'TotalReviews\\t' + 'AvgRating\\t'+\n",
    "         'DegreeCentrality\\t' + 'ClusteringCoeff\\n')\n",
    "for asin, metadata in amazonBooks.items():\n",
    "    fhw.write(metadata['Id'] + '\\t' + \n",
    "              asin + '\\t' +\n",
    "              metadata['Title'] + '\\t' +\n",
    "              metadata['Categories'] + '\\t' +\n",
    "              metadata['Group'] + '\\t' +\n",
    "              metadata['Copurchased'] +'\\t' + \n",
    "              str(metadata['SalesRank']) + '\\t' +\n",
    "              str(metadata['TotalReviews']) + '\\t' +\n",
    "              str(metadata['AvgRating']) + '\\t' +\n",
    "              str(metadata['DegreeCentrality']) + '\\t' +\n",
    "              str(metadata['ClusteringCoeff']) + '\\n')\n",
    "fhw.close()\n",
    "\n",
    "# write copurchaseGraph to file\n",
    "fhw = open('amazon-books-copurchase.edgelist', 'wb')\n",
    "networkx.write_weighted_edgelist(copurchaseGraph, fhw)\n",
    "fhw.close()"
   ]
  }
 ],
 "metadata": {
  "kernelspec": {
   "display_name": "Python 3",
   "language": "python",
   "name": "python3"
  },
  "language_info": {
   "codemirror_mode": {
    "name": "ipython",
    "version": 3
   },
   "file_extension": ".py",
   "mimetype": "text/x-python",
   "name": "python",
   "nbconvert_exporter": "python",
   "pygments_lexer": "ipython3",
   "version": "3.8.5"
  }
 },
 "nbformat": 4,
 "nbformat_minor": 4
}
