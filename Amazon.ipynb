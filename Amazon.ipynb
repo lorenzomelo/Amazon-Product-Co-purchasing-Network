{
 "cells": [
  {
   "cell_type": "markdown",
   "metadata": {},
   "source": [
    "###### May 11, 2022\n",
    "###### Author: Lorenzo Meloncelli, Martina Manno, Valerio Schettini \n",
    "#### DATA VISUALIZATION PROJECT\n",
    "# Amazon product co-purchasing network metadata"
   ]
  },
  {
   "cell_type": "markdown",
   "metadata": {},
   "source": [
    "### The project has three following objectives:"
   ]
  },
  {
   "cell_type": "markdown",
   "metadata": {},
   "source": [
    "1. Extract a network from the dataset\n",
    "2. Create plots in order to extract interesting insight from the data. \n",
    "3. Network analysis\n",
    "3. Network visualization"
   ]
  },
  {
   "cell_type": "markdown",
   "metadata": {},
   "source": [
    "### Import required libraries "
   ]
  },
  {
   "cell_type": "code",
   "execution_count": 1,
   "metadata": {},
   "outputs": [],
   "source": [
    "import string\n",
    "import pandas as pd\n",
    "import re\n",
    "import nltk\n",
    "from nltk.corpus import stopwords\n",
    "from stemming.porter2 import stem\n",
    "import networkx \n",
    "import numpy as np\n",
    "import networkx as nx\n",
    "import seaborn as sns\n",
    "import matplotlib.pyplot as plt\n",
    "import plotly.express as px\n",
    "import matplotlib.pylab as plt\n",
    "from IPython.display import Image\n",
    "from community import community_louvain\n",
    "from collections import Counter\n",
    "from itertools import chain\n",
    "#pyo.init_notebook_mode()\n",
    "import plotly.io as pio\n",
    "pio.renderers.default = 'browser'\n"
   ]
  },
  {
   "cell_type": "markdown",
   "metadata": {},
   "source": [
    "The dataset is available on the Stanford Network Analysis Project (SNAP) website from the following link: http://snap.stanford.edu/data/amazon-meta.html"
   ]
  },
  {
   "cell_type": "code",
   "execution_count": 2,
   "metadata": {},
   "outputs": [],
   "source": [
    "# Open the file to read Amazon Product Metadata\n",
    "df = open ('amazon-meta.txt', 'r', encoding='utf-8', errors= 'ignore')"
   ]
  },
  {
   "cell_type": "markdown",
   "metadata": {},
   "source": [
    "### Description of the dataset\n",
    "The data was collected in summer 2006 by crawling the Amazon website. The dataset provides information about product metadata and review metadata on 548,552 different products. For each product in the dataset, the following informations are available:\n",
    "- Title\n",
    "- Salesrank\n",
    "- List of similar products (that get co-purchased with the current product)\n",
    "- Detailed product categorization\n",
    "- Product reviews: time, customer, rating, number of votes, number of people that found the review helpful\n",
    "\n",
    "The data format is:\n",
    "- ID: Product number (number 0, …, 548551)\n",
    "- ASIN: Amazon Standard Identification Number is a 10-character alphanumeric unique identifier assigned by Amazon.com for product identification\n",
    "- Title: Name/title of the product\n",
    "- Group: The product group can be Book, DVD, Video or Music\n",
    "- Sales rank: The Amazon sales rank represents how a product is selling in comparison to other products in its primary category. The lower the rank, the better a product is selling\n",
    "- Similar: ASINs of co-purchased products, such as people who buy X also buy Y\n",
    "- Categories: Location in product category hierarchy to which the product belongs (separated by |, category id in [...] )\n",
    "- Reviews: Product review information such as the total number of reviews, average rating and the individual customer review information including time, user id, rating, total number of votes on the review, total number of helpfulness votes which means how many people found the review to be helpful\n",
    "\n",
    "\n",
    " "
   ]
  },
  {
   "cell_type": "markdown",
   "metadata": {},
   "source": [
    "### Dataset Preprocessing\n",
    "\n",
    "\n",
    "\n"
   ]
  },
  {
   "cell_type": "code",
   "execution_count": 3,
   "metadata": {},
   "outputs": [],
   "source": [
    "# Initialize a nested product dictionary that will hold cleaned up amazon product data. \n",
    "amazonProducts= {}"
   ]
  },
  {
   "cell_type": "markdown",
   "metadata": {},
   "source": [
    "Before jumping into the  network analysis, some preprocess is required to read the file and use ASIN as the key and the others as the metadata associated with ASIN.\n",
    "- ID, ASIN, Title, Sales rank, Total reviews, and Average rating are the same as described above.\n",
    "- All the categories associated with the ASIN are concatenated, and then the are subject to Text Preprocessing steps: lowercase, stemming, remove digit/punctuation, remove stop words, retain only unique words. \n",
    "- The copurchased ASINs in the “similar” field are filtered down to only those ASINs that have metadata associated with it."
   ]
  },
  {
   "cell_type": "code",
   "execution_count": 4,
   "metadata": {},
   "outputs": [
    {
     "data": {
      "text/plain": [
       "<function TextIOWrapper.close()>"
      ]
     },
     "execution_count": 4,
     "metadata": {},
     "output_type": "execute_result"
    }
   ],
   "source": [
    "# Read the data from the Amazon file and fill the amazonProducts nested dictionary\n",
    "(Id, ASIN, Title, Categories, Group, Copurchased, SalesRank, TotalReviews, AvgRating, DegreeCentrality, ClusteringCoeff) = (\"\", \"\", \"\", \"\", \"\", \"\", 0, 0, 0.0, 0, 0.0)\n",
    "\n",
    "for line in df:\n",
    "    line = line.strip()\n",
    "    if(line.startswith(\"Id\")): # a product block started\n",
    "        Id = line[3:].strip()\n",
    "    elif(line.startswith(\"ASIN\")):\n",
    "        ASIN = line[5:].strip()\n",
    "    elif(line.startswith(\"title\")):\n",
    "        Title = line[6:].strip()\n",
    "        Title = ' '.join(Title.split())\n",
    "    elif(line.startswith(\"group\")):\n",
    "        Group = line[6:].strip()\n",
    "    elif(line.startswith(\"salesrank\")):\n",
    "        SalesRank = line[10:].strip()\n",
    "    elif(line.startswith(\"similar\")):\n",
    "        ls = line.split()\n",
    "        Copurchased = ' '.join([c for c in ls[2:]])\n",
    "    elif(line.startswith(\"categories\")):\n",
    "        ls = line.split()\n",
    "        Categories = ' '.join((df.readline()).lower() for i in range(int(ls[1].strip())))\n",
    "        Categories = re.compile('[%s]' % re.escape(string.digits+string.punctuation)).sub(' ',Categories)\n",
    "        Categories = ' '.join(set(Categories.split())-set(stopwords.words(\"english\")))\n",
    "        Categories = ' '.join(stem(word) for word in Categories.split())\n",
    "    elif(line.startswith(\"reviews\")):\n",
    "        ls = line.split()\n",
    "        TotalReviews = ls[2].strip()\n",
    "        AvgRating = ls[7].strip() # a product block ended\n",
    "    elif (line==\"\"): # write out fields to amazonProducts dictionary\n",
    "        try:\n",
    "            MetaData = {}\n",
    "            if (ASIN != \"\"):\n",
    "                amazonProducts[ASIN] = MetaData\n",
    "            MetaData['Id'] = Id\n",
    "            MetaData['Title'] = Title\n",
    "            MetaData['Categories'] = ' '.join(set(Categories.split()))\n",
    "            MetaData['Group'] = Group\n",
    "            MetaData['Copurchased'] = Copurchased\n",
    "            MetaData['SalesRank'] = int(SalesRank)\n",
    "            MetaData['TotalReviews'] = int(TotalReviews)\n",
    "            MetaData['AvgRating'] = float(AvgRating)\n",
    "            MetaData['DegreeCentrality'] = DegreeCentrality\n",
    "            MetaData['ClusteringCoeff'] = ClusteringCoeff\n",
    "        except NameError:\n",
    "            continue\n",
    "        (Id, ASIN, Title, Categories, Group, Copurchased, SalesRank, TotalReviews, AvgRating, DegreeCentrality, ClusteringCoeff) = (\"\", \"\", \"\", \"\", \"\", \"\", 0, 0, 0.0, 0, 0.0)\n",
    "df.close"
   ]
  },
  {
   "cell_type": "markdown",
   "metadata": {},
   "source": [
    "The platform’s aim is to offer the largest number of various products while make it possible for customers to review them after the purchase. However, it started in 1994 as an online bookstore.\n",
    "For this reason, together with the need to reduce the number of possible nodes in the network, we decided to focus only on the book category of products. To do so, the next step would be to filter Amazon products dictionary down to only Group=Book and write it to amazonBooks dictionary."
   ]
  },
  {
   "cell_type": "code",
   "execution_count": 5,
   "metadata": {},
   "outputs": [],
   "source": [
    "#create book specific dictionary exclusively for books\n",
    "amazonBooks = {}\n",
    "for asin,metadata in amazonProducts.items():\n",
    "    if (metadata['Group']=='Book'):\n",
    "        amazonBooks[asin]=amazonProducts[asin]\n",
    "        \n",
    "#remove any copurchased items from copurchase list. If we don't have metadata associated with it\n",
    "for asin, metadata in amazonBooks.items():\n",
    "    amazonBooks[asin]['Copurchased']= ' '.join([cp for cp in metadata['Copurchased'].split() if cp in amazonBooks.keys()])\n",
    "    "
   ]
  },
  {
   "cell_type": "markdown",
   "metadata": {},
   "source": [
    "Use the copurchase data in Amazon books dictionary to create the copurchase graph structure as follows:\n",
    "- NODES: are the ASINs\n",
    "- EDGES: exist between two Nodes if the two ASINs were co-purchased\n",
    "- EDGE WEIGHT: it is based on category similarity\n",
    "- SIMILARITY: it is a measure between any two ASINs that were co-purchased and it can be calculated as the number of words that are common between categories of connected Nodes divided by the total number of words in both categories of connected nodes. The similarity range goes from 0 (most dissimilar) to 1 (most similar).\n",
    "\n",
    " "
   ]
  },
  {
   "cell_type": "code",
   "execution_count": 6,
   "metadata": {},
   "outputs": [],
   "source": [
    "#create a product copurchase graph for analysis\n",
    "#the graph nodes are product ASINs, the graph edge exists if two products were copurchased, with edge weight being a measure of category similarity between ASINs\n",
    "copurchaseGraph = networkx.Graph()\n",
    "for asin, metadata in amazonBooks.items():\n",
    "    copurchaseGraph.add_node(asin)\n",
    "    for a in metadata ['Copurchased'].split():\n",
    "        copurchaseGraph.add_node(a.strip())\n",
    "        similarity= 0\n",
    "        n1= set((amazonBooks[asin]['Categories']).split())\n",
    "        n2= set ((amazonBooks[a]['Categories']).split())\n",
    "        n1In2 = n1 & n2 #intersection: number of words that are common between categories of connected nodes\n",
    "        n1Un2 = n1 | n2 #union: total number of words in both categories of connected nodes\n",
    "        if (len(n1Un2)) > 0:\n",
    "            similarity = round (len(n1In2)/len(n1Un2), 2)\n",
    "        copurchaseGraph.add_edge(asin, a.strip(), weight = similarity)"
   ]
  },
  {
   "cell_type": "markdown",
   "metadata": {},
   "source": [
    "Add the graph-related measures for each ASIN node to the Amazon books dictionary: degree centrality and clustering coefficient."
   ]
  },
  {
   "cell_type": "code",
   "execution_count": 7,
   "metadata": {},
   "outputs": [],
   "source": [
    "# Get degree centrality and clustering coefficients of each node and add it to amazonBooks metadata.\n",
    "dc = networkx.degree(copurchaseGraph)\n",
    "for asin in networkx.nodes(copurchaseGraph):\n",
    "    metadata = amazonBooks[asin]\n",
    "    metadata['DegreeCentrality'] = int(dc[asin])\n",
    "    ego = networkx.ego_graph(copurchaseGraph, asin, radius = 1)\n",
    "    metadata['ClusteringCoeff'] = round(networkx.average_clustering(ego), 2)\n",
    "    amazonBooks[asin] = metadata"
   ]
  },
  {
   "cell_type": "markdown",
   "metadata": {},
   "source": [
    "Now, write out Amazon books data to the amazon-books.txt file and the copurchase graph data to the amazon-books-copurchase.edgelist file.\n"
   ]
  },
  {
   "cell_type": "code",
   "execution_count": 8,
   "metadata": {},
   "outputs": [],
   "source": [
    "# Write amazonBooks data to file\n",
    "df1 = open('./amazon-books.txt', 'w', encoding = 'utf-8', errors = 'ignore')\n",
    "df1.write('Id\\t' + 'ASIN\\t' + 'Title\\t'+\n",
    "         'Categories\\t' + 'Group\\t' + 'Copurchased\\t'+\n",
    "         'SalesRank\\t' + 'TotalReviews\\t' + 'AvgRating\\t'+\n",
    "         'DegreeCentrality\\t' + 'ClusteringCoeff\\n')\n",
    "for asin, metadata in amazonBooks.items():\n",
    "    df1.write(metadata['Id'] + '\\t' + \n",
    "              asin + '\\t' +\n",
    "              metadata['Title'] + '\\t' +\n",
    "              metadata['Categories'] + '\\t' +\n",
    "              metadata['Group'] + '\\t' +\n",
    "              metadata['Copurchased'] +'\\t' + \n",
    "              str(metadata['SalesRank']) + '\\t' +\n",
    "              str(metadata['TotalReviews']) + '\\t' +\n",
    "              str(metadata['AvgRating']) + '\\t' +\n",
    "              str(metadata['DegreeCentrality']) + '\\t' +\n",
    "              str(metadata['ClusteringCoeff']) + '\\n')\n",
    "df1.close()\n",
    "\n",
    "# Write copurchaseGraph to file\n",
    "df1 = open('amazon-books-copurchase.edgelist', 'wb')\n",
    "networkx.write_weighted_edgelist(copurchaseGraph, df1)\n",
    "df1.close()"
   ]
  },
  {
   "cell_type": "markdown",
   "metadata": {},
   "source": [
    "# Plots\n"
   ]
  },
  {
   "cell_type": "code",
   "execution_count": 9,
   "metadata": {},
   "outputs": [],
   "source": [
    "df2= open('amazon-books-copurchase.edgelist')\n",
    "copurchaseGraph = nx.read_weighted_edgelist(df2)\n",
    "df2.close()"
   ]
  },
  {
   "cell_type": "markdown",
   "metadata": {},
   "source": [
    "### Degree and Degree Distribution\n",
    "- How similar is the book network to a social network distribution?"
   ]
  },
  {
   "cell_type": "code",
   "execution_count": 10,
   "metadata": {},
   "outputs": [],
   "source": [
    "def degree_rank(net):\n",
    "    degree_sequence = sorted((d for n, d in net.degree()), reverse=True)\n",
    "    df = pd.DataFrame(degree_sequence, columns = ['Degree'])\n",
    "    fig = px.scatter(df, y = 'Degree')\n",
    "    fig.update_layout(xaxis_title=\"Rank\")\n",
    "    fig.update_layout({\n",
    "        'plot_bgcolor' : 'rgba(0, 0, 0, 0)',\n",
    "        'paper_bgcolor': 'rgba(0, 0, 0, 0)',\n",
    "    })\n",
    "    return fig\n",
    "degree_rank(copurchaseGraph)"
   ]
  },
  {
   "cell_type": "code",
   "execution_count": 11,
   "metadata": {},
   "outputs": [],
   "source": [
    "def degree_hist(net, kind = None, group = False):\n",
    "    if kind == 'in':  degrees = net.in_degree()\n",
    "    elif kind == 'out':  degrees = net.out_degree()\n",
    "    else: degrees = net.degree()\n",
    "   \n",
    "    df = pd.DataFrame(degrees, columns = ['Node', 'Degree'])\n",
    "    nbins = None if group else len(degrees)\n",
    "    fig = px.histogram(df, x=\"Degree\", nbins = nbins )\n",
    "    fig.update_layout(yaxis_title=\"# of Nodes\", bargap=0.01)\n",
    "    fig.update_layout({\n",
    "        'plot_bgcolor' : 'rgba(0, 0, 0, 0)',\n",
    "        'paper_bgcolor': 'rgba(0, 0, 0, 0)',\n",
    "    })\n",
    "    return fig  \n",
    "\n",
    "degree_hist(copurchaseGraph)"
   ]
  },
  {
   "cell_type": "markdown",
   "metadata": {},
   "source": [
    "As for our first two plots we want to show the Degree Distribution of the entire dataset. Because our data does not come from a social network we did not expect a perfect power-law distribution, nor a bell-shaped one. This plot gives us a first impression of how similar the network is to a social one. As you can see, the degree distribution indicates that it is far more probable to find a low degree node by random selection. Another way to put this is that \"popular\" nodes in our case represent books that were sold in conjunction with a high number of other books. A simple explanation for this can be found in the \"winner take all\" logic of the books market and the network effects that come from reaching a certain treshold of readers. Infact, it is more probable that an editor will try to concentrate their marketing activities on the books with a higher probablity of reaching such a treshold, knowing that there is no need to sell many books as long as at least some of them are the most appreciated by the public. The consequence of this is that there are few books that are acquired by a lot of readers. Therefore, because Stephen King books are acquired by so many people, it is also more probable that some casual co-purchases will be performed. For example a student co-purchasing The Shining with a textbook for his/her studies.\n",
    "A second consequence of the \"winner take all logic\" of the market is that few authors are the most popular. This means that their books are more likely to be co-purchased by their fanbase at the expense of other mediocre books that did not have the same level of success."
   ]
  },
  {
   "cell_type": "markdown",
   "metadata": {},
   "source": [
    "# Network analysis\n"
   ]
  },
  {
   "cell_type": "code",
   "execution_count": 12,
   "metadata": {},
   "outputs": [
    {
     "data": {
      "text/plain": [
       "False"
      ]
     },
     "execution_count": 12,
     "metadata": {},
     "output_type": "execute_result"
    }
   ],
   "source": [
    "# Check connection\n",
    "nx.is_connected(copurchaseGraph)"
   ]
  },
  {
   "cell_type": "markdown",
   "metadata": {},
   "source": [
    "An undirected graph that is not connected is called disconnected. An undirected graph is therefore disconnected if there exist two vertices in graph such that no path has these vertices as endpoints.\n",
    "After all, it would be unthinkable to reach any other book in the amazon catalog by co-purchasing two at a time: \n",
    "there will never be a sufficiently diverse range of preferences to justify a complete network connection."
   ]
  },
  {
   "cell_type": "code",
   "execution_count": 13,
   "metadata": {},
   "outputs": [
    {
     "data": {
      "text/plain": [
       "5.482761044139568"
      ]
     },
     "execution_count": 13,
     "metadata": {},
     "output_type": "execute_result"
    }
   ],
   "source": [
    "# Average degree\n",
    "sum(dict(copurchaseGraph.degree()).values()) / nx.number_of_nodes(copurchaseGraph)"
   ]
  },
  {
   "cell_type": "markdown",
   "metadata": {},
   "source": [
    "The average degree for each book is about 5 meaning that, on average, for each book 5 will be co-purchased with it."
   ]
  },
  {
   "cell_type": "code",
   "execution_count": 14,
   "metadata": {},
   "outputs": [
    {
     "data": {
      "text/plain": [
       "3840"
      ]
     },
     "execution_count": 14,
     "metadata": {},
     "output_type": "execute_result"
    }
   ],
   "source": [
    "# Number of connected components\n",
    "nx.number_connected_components(copurchaseGraph)"
   ]
  },
  {
   "cell_type": "markdown",
   "metadata": {},
   "source": [
    "In the network there are 3840 connected components. A connected component is a set of vertices that are linked to each other by paths. In the specific case, it represents a set of books where each is reachable from co-purchasing two books at a time."
   ]
  },
  {
   "cell_type": "code",
   "execution_count": 16,
   "metadata": {},
   "outputs": [
    {
     "data": {
      "text/plain": [
       "0.40264425532861975"
      ]
     },
     "execution_count": 16,
     "metadata": {},
     "output_type": "execute_result"
    }
   ],
   "source": [
    "# Average clustering coefficient\n",
    "nx.average_clustering(copurchaseGraph)"
   ]
  },
  {
   "cell_type": "markdown",
   "metadata": {},
   "source": [
    "The clustering coefficient measures the degree of clustering of a typical node’s neighborhood. Hence, the likelihood that any two nodes with a common neighbor are themselves connected is about 0.4."
   ]
  },
  {
   "cell_type": "code",
   "execution_count": 17,
   "metadata": {},
   "outputs": [
    {
     "data": {
      "text/plain": [
       "2.028053325789754e-05"
      ]
     },
     "execution_count": 17,
     "metadata": {},
     "output_type": "execute_result"
    }
   ],
   "source": [
    "# Density of the graph\n",
    "nx.density(copurchaseGraph)"
   ]
  },
  {
   "cell_type": "markdown",
   "metadata": {},
   "source": [
    "The density represents how many of the possible edges in the graph are actually present. Such a low density value reflects a really sparse graph."
   ]
  },
  {
   "cell_type": "code",
   "execution_count": 20,
   "metadata": {},
   "outputs": [
    {
     "data": {
      "text/plain": [
       "544744.0"
      ]
     },
     "execution_count": 20,
     "metadata": {},
     "output_type": "execute_result"
    }
   ],
   "source": [
    "# Number of triangles \n",
    "sum(nx.triangles(copurchaseGraph).values()) / 3"
   ]
  },
  {
   "cell_type": "markdown",
   "metadata": {},
   "source": [
    "- How much the similarity between two books is accountable for the co-purchase of the books themselves ?"
   ]
  },
  {
   "cell_type": "code",
   "execution_count": 19,
   "metadata": {},
   "outputs": [
    {
     "data": {
      "image/png": "[encoded data removed]",
      "text/plain": [
       "<Figure size 1080x720 with 1 Axes>"
      ]
     },
     "metadata": {},
     "output_type": "display_data"
    }
   ],
   "source": [
    "deg_cen_g_copurchase = nx.degree_centrality(copurchaseGraph)\n",
    "sorted_deg_cen_g_copurchase = sorted(deg_cen_g_copurchase.items(), key=lambda x:x[1], reverse = True)[0:50]\n",
    "ASIN = [i for i,j in sorted_deg_cen_g_copurchase]\n",
    "degree = [j for i,j in sorted_deg_cen_g_copurchase]\n",
    "custom_palette1 = sns.color_palette(\"mako\", 50)\n",
    "custom_palette2 = sns.color_palette(\"light:b\", 50)\n",
    "custom_palette2.reverse()\n",
    "sns.set(rc={'figure.figsize':(15,10), 'axes.facecolor':'white'})\n",
    "ax = sns.barplot(x = ASIN, y = degree, palette = custom_palette1)\n",
    "ax = ax.set_xticklabels(ax.get_xticklabels(), rotation = 45)"
   ]
  },
  {
   "cell_type": "code",
   "execution_count": 21,
   "metadata": {},
   "outputs": [
    {
     "name": "stdout",
     "output_type": "stream",
     "text": [
      "Mean of similarity between most connected nodes:  0.41098937486463555\n"
     ]
    }
   ],
   "source": [
    "mean_weights = []\n",
    "for j in ASIN:\n",
    "    neigh = copurchaseGraph.edges(j, data= True)\n",
    "    weight = []\n",
    "    for i in neigh:\n",
    "        weight.append(i[2]['weight'])\n",
    "    weight\n",
    "    mean_weights.append(np.mean(weight))\n",
    "mean_weights  \n",
    "print('Mean of similarity between most connected nodes: ', np.mean(mean_weights))"
   ]
  },
  {
   "cell_type": "code",
   "execution_count": 22,
   "metadata": {},
   "outputs": [
    {
     "name": "stdout",
     "output_type": "stream",
     "text": [
      "Mean of similarity between all nodes:  0.513112637021605\n"
     ]
    }
   ],
   "source": [
    "l = list(copurchaseGraph.edges(data= True))\n",
    "total_weights = []\n",
    "for i in l:\n",
    "    total_weights.append(i[2]['weight'])\n",
    "total_mean_weights = np.mean(total_weights)\n",
    "print('Mean of similarity between all nodes: ', total_mean_weights)"
   ]
  },
  {
   "cell_type": "markdown",
   "metadata": {},
   "source": [
    "The average weight of the edges of the nodes that have a higher degree centrality tends to be lower than the average total weight of the edges of the graph. therefore, the co-purchase of two books would seem not to derive exclusively from the characteristics of the books themselves, but also from other factors that are not taken into consideration here. For these reason, the advise could be not to  develop a recommendation system that is only content-based, but a hybrid one that also takes into account other factors such as users' tastes."
   ]
  },
  {
   "cell_type": "markdown",
   "metadata": {},
   "source": [
    "# Sample analysis"
   ]
  },
  {
   "cell_type": "markdown",
   "metadata": {},
   "source": [
    "Because of the visualisation complexity due to the size of the dataset, from now on, only a sample of the network will be considered in the analysis. Rather than selecting nodes at random, a good criterion would have been to select a small number of nodes with the highest degree centrality. This is because nodes with this characteristic represent books with the highest number of co-purchases, therefore this selection allows us to carry as much information as possible while still consistently reducing the number of observations."
   ]
  },
  {
   "cell_type": "code",
   "execution_count": 23,
   "metadata": {},
   "outputs": [],
   "source": [
    "df2 = open('amazon-books-copurchase.edgelist', 'r')\n",
    "data = nx.read_weighted_edgelist(df2)\n",
    "df2.close()\n",
    "c = list(data.edges(data = True))\n",
    "fr = []\n",
    "to = []\n",
    "weight = []\n",
    "deg_cen = []\n",
    "deg_cen_g_copurchase = nx.degree_centrality(data)\n",
    "sorted_deg_cen_g_copurchase = sorted(deg_cen_g_copurchase.items(), key=lambda x:x[1], reverse = True)[0:50]\n",
    "ASIN = [i for i,j in sorted_deg_cen_g_copurchase]\n",
    "\n",
    "for i in c:\n",
    "    if i[0] in ASIN:\n",
    "        fr.append(i[0])\n",
    "        to.append(i[1])\n",
    "        weight.append(i[2]['weight'])\n",
    "        deg_cen.append(dict(sorted_deg_cen_g_copurchase)[i[0]])\n",
    "\n",
    "edges = {'Source': fr, 'Target': to, 'Weight' : weight, 'Degree Centrality': deg_cen}\n",
    "df = pd.DataFrame(edges)\n",
    "df.to_csv('Highest degree centrality nodes.csv', index = False)"
   ]
  },
  {
   "cell_type": "code",
   "execution_count": null,
   "metadata": {},
   "outputs": [],
   "source": [
    "sample = pd.read_csv('Highest degree centrality nodes.csv')\n",
    "sample = pd.DataFrame(sample)\n",
    "g = nx.from_pandas_edgelist(sample, 'Source', 'Target', ['Weight'])"
   ]
  },
  {
   "cell_type": "code",
   "execution_count": null,
   "metadata": {},
   "outputs": [],
   "source": [
    "# Check connection\n",
    "nx.is_connected(g)"
   ]
  },
  {
   "cell_type": "code",
   "execution_count": null,
   "metadata": {},
   "outputs": [],
   "source": [
    "# Average degree\n",
    "sum(dict(g.degree()).values()) / nx.number_of_nodes(g)"
   ]
  },
  {
   "cell_type": "code",
   "execution_count": null,
   "metadata": {},
   "outputs": [],
   "source": [
    "# Number of connected components\n",
    "nx.number_connected_components(g)"
   ]
  },
  {
   "cell_type": "code",
   "execution_count": null,
   "metadata": {},
   "outputs": [],
   "source": [
    "# Clustering coefficient of all nodes (in a dictionary)\n",
    "nx.clustering(g)"
   ]
  },
  {
   "cell_type": "code",
   "execution_count": null,
   "metadata": {},
   "outputs": [],
   "source": [
    "# Average clustering coefficient\n",
    "nx.average_clustering(g)"
   ]
  },
  {
   "cell_type": "code",
   "execution_count": null,
   "metadata": {},
   "outputs": [],
   "source": [
    "# The density tells us how many of the possible edges in the graph are actually present:\n",
    "nx.density(g)"
   ]
  },
  {
   "cell_type": "code",
   "execution_count": null,
   "metadata": {},
   "outputs": [],
   "source": [
    "centr = nx.betweenness_centrality(g)\n",
    "centr_df = pd.DataFrame(centr.items(), columns = ['Node', 'Betweeness'])\n",
    "centr_df"
   ]
  },
  {
   "cell_type": "code",
   "execution_count": null,
   "metadata": {},
   "outputs": [],
   "source": [
    "sum(nx.triangles(g).values()) / 3"
   ]
  },
  {
   "cell_type": "markdown",
   "metadata": {},
   "source": [
    "# Network Visualization"
   ]
  },
  {
   "cell_type": "markdown",
   "metadata": {},
   "source": [
    "## Networkx"
   ]
  },
  {
   "cell_type": "markdown",
   "metadata": {},
   "source": [
    "To get some insights from the new sample, the first step is to analyze its degeneracy.\n",
    "A k-core of a graph G is a maximal connected subgraph of G in which all vertices have degree at least k. \n",
    "Equivalently, it is one of the connected components of the subgraph of G formed by repeatedly deleting all vertices of degree less than k. \n",
    "If a non-empty k-core exists, then, clearly, G has degeneracy at least k, and the degeneracy of G is the largest k for which G has a k-core.\n",
    "\n"
   ]
  },
  {
   "cell_type": "code",
   "execution_count": null,
   "metadata": {},
   "outputs": [],
   "source": [
    "plt.rcParams.update(plt.rcParamsDefault)\n",
    "pos = nx.spring_layout(g, k=0.1)\n",
    "plt.rcParams.update({'figure.figsize': (15, 10)})\n",
    "nx.draw_networkx(\n",
    "    g,\n",
    "    pos=pos,\n",
    "    node_size=0,\n",
    "    edge_color=\"#444444\",\n",
    "    alpha=0.06,\n",
    "    with_labels=False)"
   ]
  },
  {
   "cell_type": "code",
   "execution_count": null,
   "metadata": {},
   "outputs": [],
   "source": [
    "# Cores with at lest degree 2\n",
    "G_core_2 = nx.k_core(g, 2)\n",
    "# Similarly, with at least degree 3\n",
    "G_core_3 = nx.k_core(g, 3)\n",
    "# Visualize network and k-cores\n",
    "plt.rcParams.update(plt.rcParamsDefault)\n",
    "plt.rcParams.update({'figure.figsize': (15, 10)})\n",
    "pos = nx.spring_layout(g, k=0.1)\n",
    "nx.draw_networkx(\n",
    "    g, pos=pos, node_size=0, edge_color=\"#333333\", alpha=0.04, with_labels=False)\n",
    "nx.draw_networkx(\n",
    "    G_core_2, pos=pos, node_size=0, edge_color=\"green\", alpha=0.05, with_labels=False) \n",
    "nx.draw_networkx(\n",
    "    G_core_3, pos=pos, node_size=0, edge_color=\"red\", alpha=0.05, with_labels=False)"
   ]
  },
  {
   "cell_type": "markdown",
   "metadata": {},
   "source": [
    "As you can see, only a few nodes in the graph have more than two neighbors (subgraph in red). \n",
    "In other words, it is rare to find set of books where each of the books has at least two other books purchased with it. The reference sample is made out of the 50 nodes with highest degree centrality. Therefore, in most cases there are books that are not co-purchased with each other, but with only one specific book, always present in the cart with the others."
   ]
  },
  {
   "cell_type": "markdown",
   "metadata": {},
   "source": [
    "The following three graphs show the adjeciency matrices for three subsets of the nodes sorted by degree centrality.\n",
    "You can see how sorting nodes according to this metric shows an interesting structure where the sparsity of the matrix increases as the degree centrality of nodes diminishes."
   ]
  },
  {
   "cell_type": "code",
   "execution_count": null,
   "metadata": {},
   "outputs": [],
   "source": [
    "# Adjcency matrix for first 50 sorted nodes\n",
    "# Reduce the dataset to the 50 nodes with highest degree centrality and their neighbors\n",
    "deg_cen_g_copurchase = nx.degree_centrality(copurchaseGraph)\n",
    "sorted_deg_cen_g_copurchase = sorted(deg_cen_g_copurchase.items(), key=lambda x:x[1], reverse = True)[0:50]\n",
    "ASIN = [i for i,j in sorted_deg_cen_g_copurchase]\n",
    "c = list(copurchaseGraph.edges(data = True))\n",
    "fr = []\n",
    "to = []\n",
    "weight = []\n",
    "deg_cen = []\n",
    "\n",
    "for i in c:\n",
    "    if i[0] in ASIN:\n",
    "        fr.append(i[0])\n",
    "        to.append(i[1])\n",
    "        weight.append(i[2]['weight'])\n",
    "        deg_cen.append(dict(sorted_deg_cen_g_copurchase)[i[0]])\n",
    "\n",
    "edges = {'From Node': fr, 'To Node': to, 'Weight' : weight, 'Degree Centrality': deg_cen}\n",
    "df1 = pd.DataFrame(edges)\n",
    "G = nx.from_pandas_edgelist(df1, source = 'From Node', target = 'To Node', edge_attr = 'Weight')\n",
    "\n",
    "# Adjcency matrix for first 50 sorted nodes\n",
    "G = nx.from_pandas_edgelist(df1, source = 'From Node', target = 'To Node', edge_attr = 'Weight')\n",
    "adj = nx.adjacency_matrix(G, weight='Weight')\n",
    "print(adj.shape)\n",
    "plt.spy(adj)"
   ]
  },
  {
   "cell_type": "code",
   "execution_count": null,
   "metadata": {},
   "outputs": [],
   "source": [
    "deg_cen_g_copurchase = nx.degree_centrality(copurchaseGraph)\n",
    "sorted_deg_cen_g_copurchase = sorted(deg_cen_g_copurchase.items(), key=lambda x:x[1], reverse = True)[50:250]\n",
    "ASIN = [i for i,j in sorted_deg_cen_g_copurchase]\n",
    "c = list(copurchaseGraph.edges(data = True))\n",
    "fr = []\n",
    "to = []\n",
    "weight = []\n",
    "deg_cen = []\n",
    "\n",
    "for i in c:\n",
    "    if i[0] in ASIN:\n",
    "        fr.append(i[0])\n",
    "        to.append(i[1])\n",
    "        weight.append(i[2]['weight'])\n",
    "        deg_cen.append(dict(sorted_deg_cen_g_copurchase)[i[0]])\n",
    "\n",
    "edges = {'From Node': fr, 'To Node': to, 'Weight' : weight, 'Degree Centrality': deg_cen}\n",
    "df1 = pd.DataFrame(edges)\n",
    "G = nx.from_pandas_edgelist(df1, source = 'From Node', target = 'To Node', edge_attr = 'Weight')\n",
    "\n",
    "# Adjcency matrix for sorted nodes from 100 to 250\n",
    "G = nx.from_pandas_edgelist(df1, source = 'From Node', target = 'To Node', edge_attr = 'Weight')\n",
    "adj1 = nx.adjacency_matrix(G, weight='Weight')\n",
    "print(adj1.shape)\n",
    "plt.spy(adj1)\n",
    "\n",
    "\n"
   ]
  },
  {
   "cell_type": "code",
   "execution_count": null,
   "metadata": {},
   "outputs": [],
   "source": [
    "deg_cen_g_copurchase = nx.degree_centrality(copurchaseGraph)\n",
    "sorted_deg_cen_g_copurchase = sorted(deg_cen_g_copurchase.items(), key=lambda x:x[1], reverse = True)[250:450]\n",
    "ASIN = [i for i,j in sorted_deg_cen_g_copurchase]\n",
    "c = list(copurchaseGraph.edges(data = True))\n",
    "fr = []\n",
    "to = []\n",
    "weight = []\n",
    "deg_cen = []\n",
    "\n",
    "for i in c:\n",
    "    if i[0] in ASIN:\n",
    "        fr.append(i[0])\n",
    "        to.append(i[1])\n",
    "        weight.append(i[2]['weight'])\n",
    "        deg_cen.append(dict(sorted_deg_cen_g_copurchase)[i[0]])\n",
    "\n",
    "edges = {'From Node': fr, 'To Node': to, 'Weight' : weight, 'Degree Centrality': deg_cen}\n",
    "df1 = pd.DataFrame(edges)\n",
    "G = nx.from_pandas_edgelist(df1, source = 'From Node', target = 'To Node', edge_attr = 'Weight')\n",
    "# Adjcency matrix for sorted nodes from 260 to 450\n",
    "G = nx.from_pandas_edgelist(df1, source = 'From Node', target = 'To Node', edge_attr = 'Weight')\n",
    "adj2 = nx.adjacency_matrix(G, weight='Weight')\n",
    "print(adj2.shape)\n",
    "plt.spy(adj2)"
   ]
  },
  {
   "cell_type": "markdown",
   "metadata": {},
   "source": [
    "## Gephi"
   ]
  },
  {
   "cell_type": "markdown",
   "metadata": {},
   "source": [
    "In order to visualize the network graph, also the Yifan Hu algorithm can be used. It is a kind of force directed layout, the purpose of which is to minimize edge crossings while also minimizing the number of edge bends. In this case the choice of plotting a sample of the original dataset is justified by some limiting factor the force-directed layout algorithms are subject to. Namely, the high probability, for very large networks, to end up in a suboptimal configuration and the computational complexity of the algorithm itself. To overcome the first limit the algorithm uses a multilevel approach which effectively overcomes local minimums. To solve the second one, the technique use efficient approximations of short and long range forces. "
   ]
  },
  {
   "cell_type": "code",
   "execution_count": null,
   "metadata": {},
   "outputs": [],
   "source": [
    "Image(filename = \"Yifan Hu Communities.png\", width=750, height=750)"
   ]
  },
  {
   "cell_type": "markdown",
   "metadata": {},
   "source": [
    "To our surprise, by first using the Yifan Hu method to draw the graph and then applying the Louvain algorithm to find communities, the layout configuration overlaps perfectly with the communities found. The result from this two step process is as follows: most of the nodes that have a high degree centrality are connected to nodes that in turn are not connected to other nodes. Moreover, nodes with high degree centrality have the tendency to connect communities with each other either directly or through some other nodes between communities. Therefore, it is possible to clearly visualize not only books having a lot of other books purchased with them, but also what are the books one has to co-purchase to pass from one community to another. For recommendations this means that there is a trade off between proposing a book to be co-purchased with another one but that reduces the probability of having a third book inserted in the cart or choosing a book that increments this probability. "
   ]
  },
  {
   "cell_type": "markdown",
   "metadata": {},
   "source": [
    "## Communities insights"
   ]
  },
  {
   "cell_type": "code",
   "execution_count": null,
   "metadata": {},
   "outputs": [],
   "source": [
    "communities =community_louvain.best_partition(g)"
   ]
  },
  {
   "cell_type": "code",
   "execution_count": null,
   "metadata": {},
   "outputs": [],
   "source": [
    "data = pd.read_csv('Modularity_class_sample.csv')\n",
    "data_5 = data[data['modularity_class'] == 13]\n",
    "\n",
    "l = list(data_5['Id'])\n",
    "m = list(amazonBooks.items())\n",
    "categories = []\n",
    "\n",
    "for node in l:\n",
    "    for book in m:\n",
    "        if node == book[0]:\n",
    "            categories.append(book[1]['Categories'])\n",
    "\n",
    "cat = []\n",
    "for i in categories:\n",
    "    m = i.split()\n",
    "    for l in m:\n",
    "        cat.append(l)\n",
    "        \n",
    "occur = Counter(cat)\n",
    "\n",
    "sorted_dict = {}\n",
    "sorted_keys = sorted(occur, key=occur.get, reverse=True)  \n",
    "\n",
    "for w in sorted_keys:\n",
    "    sorted_dict[w] = occur[w]\n",
    "    \n",
    "keys = list(sorted_dict.keys())[:20]\n",
    "vals = list(sorted_dict.values())[:20]\n",
    "a = sns.barplot(x=keys, y = vals)\n",
    "a.set_xticklabels(a.get_xticklabels(), rotation=75, horizontalalignment='right')"
   ]
  },
  {
   "cell_type": "code",
   "execution_count": null,
   "metadata": {},
   "outputs": [],
   "source": [
    "data_3 = data[data['modularity_class'] == 23]\n",
    "\n",
    "l = list(data_3['Id'])\n",
    "m = list(amazonBooks.items())\n",
    "categories = []\n",
    "\n",
    "for node in l:\n",
    "    for book in m:\n",
    "        if node == book[0]:\n",
    "            categories.append(book[1]['Categories'])\n",
    "\n",
    "cat = []\n",
    "for i in categories:\n",
    "    m = i.split()\n",
    "    for l in m:\n",
    "        cat.append(l)\n",
    "        \n",
    "occur = Counter(cat)\n",
    "\n",
    "sorted_dict = {}\n",
    "sorted_keys = sorted(occur, key=occur.get, reverse=True)  \n",
    "\n",
    "for w in sorted_keys:\n",
    "    sorted_dict[w] = occur[w]\n",
    "    \n",
    "keys = list(sorted_dict.keys())[:20]\n",
    "vals = list(sorted_dict.values())[:20]\n",
    "b = sns.barplot(x=keys, y = vals)\n",
    "b.set_xticklabels(a.get_xticklabels(), rotation=75, horizontalalignment='right')"
   ]
  },
  {
   "cell_type": "code",
   "execution_count": null,
   "metadata": {},
   "outputs": [],
   "source": [
    "data_17 = data[data['modularity_class'] == 26]\n",
    "\n",
    "l = list(data_17['Id'])\n",
    "m = list(amazonBooks.items())\n",
    "categories = []\n",
    "\n",
    "for node in l:\n",
    "    for book in m:\n",
    "        if node == book[0]:\n",
    "            categories.append(book[1]['Categories'])\n",
    "\n",
    "cat = []\n",
    "for i in categories:\n",
    "    m = i.split()\n",
    "    for l in m:\n",
    "        cat.append(l)\n",
    "        \n",
    "occur = Counter(cat)\n",
    "\n",
    "sorted_dict = {}\n",
    "sorted_keys = sorted(occur, key=occur.get, reverse=True)  \n",
    "\n",
    "for w in sorted_keys:\n",
    "    sorted_dict[w] = occur[w]\n",
    "    \n",
    "keys = list(sorted_dict.keys())[:20]\n",
    "vals = list(sorted_dict.values())[:20]\n",
    "c = sns.barplot(x=keys, y = vals)\n",
    "c.set_xticklabels(a.get_xticklabels(), rotation=75, horizontalalignment='right')"
   ]
  },
  {
   "cell_type": "code",
   "execution_count": null,
   "metadata": {},
   "outputs": [],
   "source": [
    "edge_style_def = dict(color = 'gray', width = 0.5)  # define the default style for edges\n",
    "node_style_def = dict(symbol = 'circle', size = 5, opacity = 0.9, \n",
    "                      color = 'blue', line = dict(color = 'rgb(0,0,0)', width = 0.5))   # define the default style for nodes"
   ]
  },
  {
   "cell_type": "code",
   "execution_count": null,
   "metadata": {},
   "outputs": [],
   "source": [
    "def set_layout(G, ndim = 2, kamada = True):    \n",
    "    print('Calculating coordinates')\n",
    "    layout = nx.kamada_kawai_layout(G, dim = ndim) if kamada else nx.spring_layout(G, dim = ndim) # define the node layout with NetworkX\n",
    "    print('End')\n",
    "    edgelist = list(G.edges())\n",
    "    \n",
    "    # Extract coordinates\n",
    "    ax_nodes = pd.DataFrame(layout).transpose() \n",
    "    ax_nodes.columns = ['X', 'Y'] if ndim == 2 else ['X', 'Y', 'Z'] # 2D or 3D?\n",
    "    \n",
    "    \n",
    "    # define layout for edges\n",
    "    if ndim == 2:\n",
    "        layout_e = dict(map(lambda e: \n",
    "                (e, # edge key\n",
    "                ([layout[e[0]][0], layout[e[1]][0], None],  # X\n",
    "                [layout[e[0]][1], layout[e[1]][1], None])  # Y\n",
    "                ), edgelist))\n",
    "    else:\n",
    "        layout_e = dict(map(lambda e: \n",
    "            (e, # edge key\n",
    "            ([layout[e[0]][0], layout[e[1]][0], None], # X\n",
    "            [layout[e[0]][1], layout[e[1]][1], None],  # Y\n",
    "            [layout[e[0]][2], layout[e[1]][2], None])  # Z\n",
    "            ), edgelist))\n",
    "    \n",
    "    \n",
    "    # extract coordinates\n",
    "    ax_edges = pd.DataFrame(layout_e).transpose()\n",
    "    ax_edges.columns = ['X', 'Y'] if ndim == 2 else ['X', 'Y', 'Z']\n",
    "\n",
    "    return ax_nodes, ax_edges"
   ]
  },
  {
   "cell_type": "code",
   "execution_count": null,
   "metadata": {},
   "outputs": [],
   "source": [
    "def set_trace(X, Y, kind, style, name, Z = None, text = None): #draw nodes or edges\n",
    "    mode = 'markers' if kind == 'node' else 'lines'\n",
    "    hoverinfo = 'text' if kind == 'node' else 'none'\n",
    "    if Z is None:\n",
    "        if kind == 'node':\n",
    "            return go.Scatter(x = X, y = Y, mode = mode, name = name, marker = style, text = text, hoverinfo = hoverinfo)  # draw nodes (i.e., markers) in 2D\n",
    "        else:\n",
    "            return go.Scatter(x = X, y = Y, mode = mode, name = name, line = style, text = text, hoverinfo = hoverinfo)  # draw edges (i.e., lines) in 2D\n",
    "    else: \n",
    "        if kind == 'node':\n",
    "            return go.Scatter3d(x = X, y = Y, z = Z, mode = mode, marker = style,  text = text, name = name, hoverinfo = hoverinfo)  # draw nodes (i.e., markers) in 3D\n",
    "        else:\n",
    "            return go.Scatter3d(x = X, y = Y, z = Z, mode = mode, line = style,  text = text, name = name, hoverinfo = hoverinfo)  # draw edges (i.e., lines) in 3D\n",
    "\n",
    "    \n",
    "def set_traces(nodes_ax: pd.DataFrame, edges_ax: pd.DataFrame, communities = None):  # Function to set up the main figure with nodes, edges, and communities\n",
    "    traces = []\n",
    "    Xe = list(chain(*edges_ax.X.tolist())) \n",
    "    Ye = list(chain(*edges_ax.Y.tolist()))\n",
    "    Ze = list(chain(*edges_ax.Z.tolist())) if 'Z' in edges_ax.columns else None\n",
    "\n",
    "    traces.append(set_trace(Xe, Ye, Z = Ze, kind = 'edge', style = edge_style_def, name = 'Link'))\n",
    "    \n",
    "    if communities is None:\n",
    "        traces.append(set_trace(nodes_ax.X.tolist(), nodes_ax.Y.tolist(), \n",
    "                                Z = nodes_ax.Z.tolist() if 'Z' in nodes_ax.columns else None, \n",
    "                                kind = 'node', style = node_style_def, \n",
    "                                name = 'Character', text = nodes_ax.index))\n",
    "    else:\n",
    "        colors = list(sns.color_palette(n_colors =len(communities)).as_hex())\n",
    "        for idcom, community in enumerate(communities):\n",
    "            node_style = node_style_def.copy()\n",
    "            node_style['color'] = colors[idcom]\n",
    "            temp = nodes_ax[nodes_ax.index.isin(community)]\n",
    "            traces.append(set_trace(temp.X.tolist(), temp.Y.tolist(), \n",
    "                                Z = temp.Z.tolist() if 'Z' in temp.columns else None, \n",
    "                                kind = 'node', style = node_style, \n",
    "                                name = 'Class '+str(idcom), text = temp.index))\n",
    "            \n",
    "                                       \n",
    "    return traces"
   ]
  },
  {
   "cell_type": "code",
   "execution_count": null,
   "metadata": {},
   "outputs": [],
   "source": [
    "def draw_plotly_network(net, ndim = 2, communities = None, kamada = True):  # Main function to draw a network\n",
    "    nodes_ax, edges_ax = set_layout(net, ndim = ndim, kamada = kamada)  # the kamada parameter sets the Networkx layout to use. The ndim parameter sets the dimensions the layout (i.e., 2D or 3D)\n",
    "    traces = set_traces(nodes_ax, edges_ax, communities)  # the kamada parameter set the Networkx layout to use.\n",
    "    pyo.iplot(traces, filename = 'basic-line')  # Plot the the network"
   ]
  },
  {
   "cell_type": "code",
   "execution_count": null,
   "metadata": {},
   "outputs": [],
   "source": [
    "draw_plotly_network(g, ndim = 3, communities = comm_mod)  # Draw the network using the Kamada Kawai 3D layout"
   ]
  },
  {
   "cell_type": "markdown",
   "metadata": {},
   "source": [
    "As you can see, by isolating class 13, we have the confirmation of what we discovered previously with the degeneracy analysis: in most cases the books are not co-purchased with each other, but with only one specific book which, in this specific case, is the book 0812580036."
   ]
  },
  {
   "cell_type": "markdown",
   "metadata": {},
   "source": [
    "## Recommendation system"
   ]
  },
  {
   "cell_type": "markdown",
   "metadata": {},
   "source": [
    "The next step is to use this transformed data to make Book Recommendations. At first, read amazon-books.txt data into the amazonBooks Dictionary and amazon-books-copurchase.edgelist into the copurchaseGraph Structure."
   ]
  },
  {
   "cell_type": "code",
   "execution_count": null,
   "metadata": {},
   "outputs": [],
   "source": [
    "#code 1\n",
    "import networkx\n",
    "from operator import itemgetter\n",
    "import matplotlib.pyplot\n",
    "\n",
    "df = open ('amazon-meta.txt', 'r', encoding='utf-8', errors= 'ignore')\n",
    "amazonBooks: {}\n",
    "\n"
   ]
  },
  {
   "cell_type": "code",
   "execution_count": null,
   "metadata": {},
   "outputs": [],
   "source": [
    "df.readline()\n",
    "for line in df:\n",
    "    cell = line.split ('\\t')\n",
    "    MetaData = {}\n",
    "    MetaData['Id'] = cell[0].strip()\n",
    "    ASIN = cell[1].strip()\n",
    "    MetaData['Title'] = cell[2].strip()\n",
    "    MetaData['Categories'] = cell[3].strip()\n",
    "    MetaData['Group'] = cell[4].strip()\n",
    "    MetaData['Copurchased'] = cell[5].strip()\n",
    "    MetaData['SalesRank'] = int(cell[6].strip())\n",
    "    MetaData['TotalReviews'] = int(cell[7].strip())\n",
    "    MetaData['AvgRating']= float(cell[8].strip())\n",
    "    MetaData['DegreeCentrality']= int(cell[9].strip())\n",
    "    MetaData['ClusteringCoeff'] = float(cell[10].strip())\n",
    "    amazonBooks[ASIN] = MetaData\n",
    "df.close()\n",
    "\n"
   ]
  },
  {
   "cell_type": "markdown",
   "metadata": {},
   "source": [
    "We then assume a User has purchased a Book with ASIN=0805047905. The question then is, how do we make other Book Recommendations to this User, based on the Book copurchase data that we have? We could potentially take ALL books that were ever copurchased with this book, and recommend all of them. However, the Degree Centrality of Nodes in a Product Co-Purchase Network can typically be pretty large. We should therefore come up with a better strategy.\n",
    "We examine the metadata associated with the Book that the User is looking to purchase (purchasedAsin =0805047905), including Title, SalesRank, TotalReviews, AvgRating, DegreeCentrality, and ClusteringCoefficient. We notice that this Book has a DegreeCentrality of 216 — which means 216 other Books were copurchased with this Book by other Customers. So yes, it would indeed make sense to come up with a better strategy of recommending copruchased Books.\n"
   ]
  },
  {
   "cell_type": "code",
   "execution_count": null,
   "metadata": {},
   "outputs": [],
   "source": [
    "print('looking for RS for customer purchasing this book:')\n",
    "print('....')\n",
    "purchasedAsin = '0805047905'\n",
    "print ('ASIN = ', purchasedAsin)\n",
    "print('Title = ', amazonBooks[purchasedAsin]['Title'])\n",
    "print('SalesRank = ', amazonBooks[purchasedAsin]['SalesRank'])\n",
    "print('TotalReviews = ', amazonBooks[purchasedAsin]['TotalReviews'])\n",
    "print('AvgRating = ', amazonBooks[purchasedAsin]['AvgRating'])\n",
    "print('DegreeCentrality = ', amazonBooks[purchasedAsin]['DegreeCentrality'])\n",
    "print('ClusteringCoeff = ', amazonBooks[purchasedAsin]['ClusteringCoeff'])\n",
    "\n"
   ]
  },
  {
   "cell_type": "markdown",
   "metadata": {},
   "source": [
    "Lets get the books that have been co-purchased with the purchasedAsin in the past. That is, get the depth-1 ego network of purchasedAsin from copurchaseGraph, and assign the resulting graph to purchasedAsinEgoGraph.\n"
   ]
  },
  {
   "cell_type": "code",
   "execution_count": null,
   "metadata": {},
   "outputs": [],
   "source": [
    "n=purchasedAsin\n",
    "ego=networkx.ego_graph(copurchasGraph, n, radius=1)\n",
    "purchasedAsinEgoGraph = networkx.Graph(ego)"
   ]
  },
  {
   "cell_type": "markdown",
   "metadata": {},
   "source": [
    "Filter down to the most similar books. That is, use the island method on purchasedAsinEgoGraph to only retain edges with threshold >= 0.5, and assign resulting graph to purchasedAsinEgoTrimGraph. And get the books that are still connected to the purchasedAsin by one hop (called the neighbors of the purchasedAsin) after the above clean-up. This has already been coded up for you. Assuming you’ve constructed the purchasedAsinEgoTrimGraph above, the list of neighbors is available in purchasedAsinNeighbors."
   ]
  },
  {
   "cell_type": "code",
   "execution_count": null,
   "metadata": {},
   "outputs": [],
   "source": [
    "threshold = 0.5\n",
    "purchasedAsinEgoTrimGraph = networkx.Graph()\n",
    "for f,t,e in purchasedAsinEgoGraph.edges(data=True):\n",
    "    if e['weight'] >= threshold:\n",
    "        purchasedAsinEgoTrimGraph.ass_edge(f,t,e)\n",
    "        \n",
    "purchasedAsinNeighbors = purchasedAsinEgoTrimGraph.neighbors(purchasedAsin)\n",
    "\n"
   ]
  },
  {
   "cell_type": "markdown",
   "metadata": {},
   "source": [
    "Come up with a method to make the Top Five book recommendations based on one or more of the following metrics associated with neighbors in purchasedAsinNeighbors: SalesRank, AvgRating, TotalReviews, DegreeCentrality, and ClusteringCoeff. Think through this carefully… For instance, if you go with AvgRating, should you also consider TotalReviews in conjunction? Or if you go with ClusteringCoeff, can it be trivially 1? In which case, what other metric can you use in conjunction to avoid this situation?"
   ]
  },
  {
   "cell_type": "code",
   "execution_count": null,
   "metadata": {},
   "outputs": [],
   "source": [
    "asMeta = []\n",
    "for asin in purchasedAsinNeighbors:\n",
    "    ASIN = asin\n",
    "    Title = amazonBooks[asin]['Title']\n",
    "    SalesRank = amazonBooks[asin]['SalesRank']\n",
    "    TotalReviews = amazonBooks[asin][' TotalReviews']\n",
    "    AvgRatin = amazonBooks[asin]['AvgRating']\n",
    "    DegreeCentrality = amazonBooks[asin]['DegreeCentrality']\n",
    "    ClusteringCoeff = amazonBooks[asin][' ClusteringCoeff']\n",
    "    AsMeta.append((ASIN, Title, SalesRank, TotalReviews, AvgRating, DegreeCentrality, ClusteringCoeff))\n",
    "    \n",
    "    t5 = sorted(AsMeta, key = lambda x: (x[4], x[3]), reverse = True)[:4]"
   ]
  },
  {
   "cell_type": "markdown",
   "metadata": {},
   "source": [
    "Finally, we can print Top 5 recommendations (ASIN, and associated Title, Sales Rank, TotalReviews, AvgRating, DegreeCentrality, ClusteringCoeff)."
   ]
  },
  {
   "cell_type": "code",
   "execution_count": null,
   "metadata": {},
   "outputs": [],
   "source": [
    "print()\n",
    "print('top 5 recommendations')\n",
    "print('...')\n",
    "print(t5)\n",
    "\n",
    "print('ASIN\\t', 'Title\\t', 'SalesRank\\t', 'TotalReviews\\t', 'Avgrating\\t', 'DegreeCentrality\\t', 'ClusteringCoeff')\n",
    "for asin in t5:\n",
    "    print(asin)\n",
    "print()"
   ]
  },
  {
   "cell_type": "markdown",
   "metadata": {},
   "source": [
    "Result of the book recommendation\n",
    "Since I set the specific ASIN (0805047905) in the book recommendation process 2, I could get the top 5 book recommendations including “Time for Bed”, “Big Red Barn Board Book”, “What Makes a Rainbow?: Pop-Up”, From Head to Toe Board Book”, and “From Head to Toe” as the result."
   ]
  }
 ],
 "metadata": {
  "kernelspec": {
   "display_name": "Python 3",
   "language": "python",
   "name": "python3"
  },
  "language_info": {
   "codemirror_mode": {
    "name": "ipython",
    "version": 3
   },
   "file_extension": ".py",
   "mimetype": "text/x-python",
   "name": "python",
   "nbconvert_exporter": "python",
   "pygments_lexer": "ipython3",
   "version": "3.8.5"
  }
 },
 "nbformat": 4,
 "nbformat_minor": 4
}
